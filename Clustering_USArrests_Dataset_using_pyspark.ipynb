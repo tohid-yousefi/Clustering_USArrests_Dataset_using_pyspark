{
 "cells": [
  {
   "cell_type": "markdown",
   "id": "7f05a792-33b8-4a4a-8d61-7613ba1893b1",
   "metadata": {},
   "source": [
    "# Clustering USArrests Dataset using pyspark\n",
    "\n",
    "📌  In this section, we will cluster the USArrests dataset using pyspark."
   ]
  },
  {
   "cell_type": "markdown",
   "id": "ab0aa157-09f5-4651-b3e8-82f132ce2231",
   "metadata": {},
   "source": [
    "# Business Problem\n",
    "\n",
    "📌 It asks you to divide the states into clusters by examining the crimes that occurred in 50 different states of America. You are expected to do this separation with the k-means algorithm and use pyspak."
   ]
  },
  {
   "cell_type": "markdown",
   "id": "62a769bf-8617-41f2-906d-31712d64b507",
   "metadata": {},
   "source": [
    "# Dataset Story\n",
    "\n",
    "📌 This data set contains statistics, in arrests per 100,000 residents for assault, murder, and rape in each of the 50 US states in 1973. Also given is the percent of the population living in urban areas.This is a systematic approach for identifying and analyzing patterns and trends in crime using USArrest dataset"
   ]
  },
  {
   "cell_type": "markdown",
   "id": "15110b1d-2083-4833-a66b-2da60b326c19",
   "metadata": {},
   "source": [
    "# Create Session in Spark"
   ]
  },
  {
   "cell_type": "code",
   "execution_count": 1,
   "id": "ed4096a4-4879-44a6-9a42-77afa706ad03",
   "metadata": {},
   "outputs": [
    {
     "name": "stdout",
     "output_type": "stream",
     "text": [
      "Requirement already satisfied: findspark in c:\\users\\tohid\\anaconda3\\lib\\site-packages (2.0.1)\n"
     ]
    }
   ],
   "source": [
    "!pip install findspark\n",
    "import findspark\n",
    "findspark.init(\"C:\\spark\")\n",
    "import pyspark\n",
    "from pyspark.sql import SparkSession\n",
    "from pyspark.conf import SparkConf\n",
    "from pyspark import SparkContext\n",
    "spark = SparkSession.builder \\\n",
    "    .master(\"local\") \\\n",
    "    .appName(\"Clustering\") \\\n",
    "    .config(\"spark.sql.shuffle.partitions\", \"2\") \\\n",
    "    .getOrCreate()\n",
    "sc = spark.sparkContext"
   ]
  },
  {
   "cell_type": "code",
   "execution_count": 2,
   "id": "bcc782cf-8690-4f7d-bb34-8ae48af3125c",
   "metadata": {},
   "outputs": [
    {
     "data": {
      "text/html": [
       "\n",
       "        <div>\n",
       "            <p><b>SparkContext</b></p>\n",
       "\n",
       "            <p><a href=\"http://DESKTOP-9AQ8NK1:4040\">Spark UI</a></p>\n",
       "\n",
       "            <dl>\n",
       "              <dt>Version</dt>\n",
       "                <dd><code>v3.3.1</code></dd>\n",
       "              <dt>Master</dt>\n",
       "                <dd><code>local</code></dd>\n",
       "              <dt>AppName</dt>\n",
       "                <dd><code>Clustering</code></dd>\n",
       "            </dl>\n",
       "        </div>\n",
       "        "
      ],
      "text/plain": [
       "<SparkContext master=local appName=Clustering>"
      ]
     },
     "execution_count": 2,
     "metadata": {},
     "output_type": "execute_result"
    }
   ],
   "source": [
    "sc"
   ]
  },
  {
   "cell_type": "markdown",
   "id": "7bb1b3ff-632f-45ab-9da9-0acd223da5a9",
   "metadata": {},
   "source": [
    "# Import Necesaary Libraries"
   ]
  },
  {
   "cell_type": "code",
   "execution_count": 29,
   "id": "1362edbd-b2dc-44c8-9da6-4f7b1dec8efd",
   "metadata": {},
   "outputs": [],
   "source": [
    "import pandas as pd\n",
    "pd.set_option(\"display.max_columns\",None)\n",
    "pd.set_option(\"display.max_rows\", None)\n",
    "pd.set_option(\"display.width\", 500)\n",
    "pd.set_option(\"display.float_format\", lambda x: '%.4f' % x)\n",
    "import pyspark.sql.functions as F\n",
    "from pyspark.ml.feature import StringIndexer, OneHotEncoder, VectorAssembler, StandardScaler\n",
    "from pyspark.ml import Pipeline\n",
    "from pyspark.ml.clustering import KMeans\n",
    "from pyspark.ml.evaluation import ClusteringEvaluator"
   ]
  },
  {
   "cell_type": "markdown",
   "id": "3183b6f7-81c6-4425-b09d-a72c10e39364",
   "metadata": {},
   "source": [
    "# Import Dataset"
   ]
  },
  {
   "cell_type": "code",
   "execution_count": 4,
   "id": "dffbbcad-4624-4d06-a647-657044dec47f",
   "metadata": {},
   "outputs": [
    {
     "data": {
      "text/plain": [
       "DataFrame[_c0: string, Murder: double, Assault: int, UrbanPop: int, Rape: double]"
      ]
     },
     "execution_count": 4,
     "metadata": {},
     "output_type": "execute_result"
    }
   ],
   "source": [
    "df = (spark.read.format(\"csv\")\n",
    "      .option(\"header\", True)\n",
    "      .option(\"inferSchema\", True)\n",
    "      .load(\"USArrests.csv\")\n",
    ")\n",
    "df.persist()"
   ]
  },
  {
   "cell_type": "code",
   "execution_count": 5,
   "id": "c494400b-3eda-48be-b049-3fdd2673166c",
   "metadata": {},
   "outputs": [
    {
     "data": {
      "text/html": [
       "<div>\n",
       "<style scoped>\n",
       "    .dataframe tbody tr th:only-of-type {\n",
       "        vertical-align: middle;\n",
       "    }\n",
       "\n",
       "    .dataframe tbody tr th {\n",
       "        vertical-align: top;\n",
       "    }\n",
       "\n",
       "    .dataframe thead th {\n",
       "        text-align: right;\n",
       "    }\n",
       "</style>\n",
       "<table border=\"1\" class=\"dataframe\">\n",
       "  <thead>\n",
       "    <tr style=\"text-align: right;\">\n",
       "      <th></th>\n",
       "      <th>_c0</th>\n",
       "      <th>Murder</th>\n",
       "      <th>Assault</th>\n",
       "      <th>UrbanPop</th>\n",
       "      <th>Rape</th>\n",
       "    </tr>\n",
       "  </thead>\n",
       "  <tbody>\n",
       "    <tr>\n",
       "      <th>0</th>\n",
       "      <td>Alabama</td>\n",
       "      <td>13.2000</td>\n",
       "      <td>236</td>\n",
       "      <td>58</td>\n",
       "      <td>21.2000</td>\n",
       "    </tr>\n",
       "    <tr>\n",
       "      <th>1</th>\n",
       "      <td>Alaska</td>\n",
       "      <td>10.0000</td>\n",
       "      <td>263</td>\n",
       "      <td>48</td>\n",
       "      <td>44.5000</td>\n",
       "    </tr>\n",
       "    <tr>\n",
       "      <th>2</th>\n",
       "      <td>Arizona</td>\n",
       "      <td>8.1000</td>\n",
       "      <td>294</td>\n",
       "      <td>80</td>\n",
       "      <td>31.0000</td>\n",
       "    </tr>\n",
       "    <tr>\n",
       "      <th>3</th>\n",
       "      <td>Arkansas</td>\n",
       "      <td>8.8000</td>\n",
       "      <td>190</td>\n",
       "      <td>50</td>\n",
       "      <td>19.5000</td>\n",
       "    </tr>\n",
       "    <tr>\n",
       "      <th>4</th>\n",
       "      <td>California</td>\n",
       "      <td>9.0000</td>\n",
       "      <td>276</td>\n",
       "      <td>91</td>\n",
       "      <td>40.6000</td>\n",
       "    </tr>\n",
       "  </tbody>\n",
       "</table>\n",
       "</div>"
      ],
      "text/plain": [
       "          _c0  Murder  Assault  UrbanPop    Rape\n",
       "0     Alabama 13.2000      236        58 21.2000\n",
       "1      Alaska 10.0000      263        48 44.5000\n",
       "2     Arizona  8.1000      294        80 31.0000\n",
       "3    Arkansas  8.8000      190        50 19.5000\n",
       "4  California  9.0000      276        91 40.6000"
      ]
     },
     "execution_count": 5,
     "metadata": {},
     "output_type": "execute_result"
    }
   ],
   "source": [
    "df.limit(5).toPandas()"
   ]
  },
  {
   "cell_type": "code",
   "execution_count": 6,
   "id": "1032ad25-f20c-46b1-a9e6-d310f32b810f",
   "metadata": {},
   "outputs": [
    {
     "name": "stdout",
     "output_type": "stream",
     "text": [
      "root\n",
      " |-- _c0: string (nullable = true)\n",
      " |-- Murder: double (nullable = true)\n",
      " |-- Assault: integer (nullable = true)\n",
      " |-- UrbanPop: integer (nullable = true)\n",
      " |-- Rape: double (nullable = true)\n",
      "\n"
     ]
    }
   ],
   "source": [
    "df.printSchema()"
   ]
  },
  {
   "cell_type": "code",
   "execution_count": 7,
   "id": "ab6b42b7-e5e9-4ede-89cc-da0f5e229454",
   "metadata": {},
   "outputs": [
    {
     "name": "stdout",
     "output_type": "stream",
     "text": [
      "+----------+------+-------+--------+----+\n",
      "|     index|Murder|Assault|UrbanPop|Rape|\n",
      "+----------+------+-------+--------+----+\n",
      "|   Alabama|  13.2|    236|      58|21.2|\n",
      "|    Alaska|  10.0|    263|      48|44.5|\n",
      "|   Arizona|   8.1|    294|      80|31.0|\n",
      "|  Arkansas|   8.8|    190|      50|19.5|\n",
      "|California|   9.0|    276|      91|40.6|\n",
      "+----------+------+-------+--------+----+\n",
      "only showing top 5 rows\n",
      "\n"
     ]
    }
   ],
   "source": [
    "df = df.withColumnRenamed(\"_c0\", \"index\")\n",
    "df.show(5)"
   ]
  },
  {
   "cell_type": "code",
   "execution_count": 8,
   "id": "99f19914-6646-4989-83e3-cc7912cd639d",
   "metadata": {},
   "outputs": [
    {
     "name": "stdout",
     "output_type": "stream",
     "text": [
      "(50, 5)\n"
     ]
    }
   ],
   "source": [
    "print((df.count(), len(df.columns)))"
   ]
  },
  {
   "cell_type": "markdown",
   "id": "f2226aeb-a138-4ba4-958d-4c926b31c4a0",
   "metadata": {},
   "source": [
    "# Missing Value Analysis"
   ]
  },
  {
   "cell_type": "code",
   "execution_count": 9,
   "id": "0b90bdc0-82d5-4bb3-8549-9dbb4da963f2",
   "metadata": {},
   "outputs": [
    {
     "data": {
      "text/html": [
       "<div>\n",
       "<style scoped>\n",
       "    .dataframe tbody tr th:only-of-type {\n",
       "        vertical-align: middle;\n",
       "    }\n",
       "\n",
       "    .dataframe tbody tr th {\n",
       "        vertical-align: top;\n",
       "    }\n",
       "\n",
       "    .dataframe thead th {\n",
       "        text-align: right;\n",
       "    }\n",
       "</style>\n",
       "<table border=\"1\" class=\"dataframe\">\n",
       "  <thead>\n",
       "    <tr style=\"text-align: right;\">\n",
       "      <th></th>\n",
       "      <th>index</th>\n",
       "      <th>Murder</th>\n",
       "      <th>Assault</th>\n",
       "      <th>UrbanPop</th>\n",
       "      <th>Rape</th>\n",
       "    </tr>\n",
       "  </thead>\n",
       "  <tbody>\n",
       "    <tr>\n",
       "      <th>0</th>\n",
       "      <td>0</td>\n",
       "      <td>0</td>\n",
       "      <td>0</td>\n",
       "      <td>0</td>\n",
       "      <td>0</td>\n",
       "    </tr>\n",
       "  </tbody>\n",
       "</table>\n",
       "</div>"
      ],
      "text/plain": [
       "   index  Murder  Assault  UrbanPop  Rape\n",
       "0      0       0        0         0     0"
      ]
     },
     "execution_count": 9,
     "metadata": {},
     "output_type": "execute_result"
    }
   ],
   "source": [
    "df.select([F.count(F.when(F.isnan(c), c)).alias(c) for c in df.columns]).toPandas()"
   ]
  },
  {
   "cell_type": "code",
   "execution_count": 10,
   "id": "a598964e-88e8-4f4c-af0c-01eb42dcc2b9",
   "metadata": {},
   "outputs": [],
   "source": [
    "def null_count(dataframe, col_name):\n",
    "    nc = dataframe.select(col_name).filter(\n",
    "        (F.col(col_name) == \"NA\")|\n",
    "        (F.col(col_name) == \"\") |\n",
    "        (F.col(col_name).isNull())\n",
    "    ).count()\n",
    "    return nc"
   ]
  },
  {
   "cell_type": "code",
   "execution_count": 11,
   "id": "c20d8704-76e8-4af8-ae01-600107ecea7d",
   "metadata": {},
   "outputs": [
    {
     "data": {
      "text/plain": [
       "0"
      ]
     },
     "execution_count": 11,
     "metadata": {},
     "output_type": "execute_result"
    }
   ],
   "source": [
    "null_count(df, \"Rape\")"
   ]
  },
  {
   "cell_type": "code",
   "execution_count": 12,
   "id": "d4544a4f-059c-4446-b797-94b80ddb8074",
   "metadata": {},
   "outputs": [],
   "source": [
    "def show_all_null(dataframe):\n",
    "    for col_name in dataframe.dtypes:\n",
    "        nc = null_count(dataframe, col_name[0])\n",
    "        if nc > 0:\n",
    "            print(\"{} ===> {} , Ratio: {:.2f}\".format(col_name[0], nc, (nc/dataframe.count())*100))\n",
    "    if nc == 0:\n",
    "        print(\"There is no null value\")  "
   ]
  },
  {
   "cell_type": "code",
   "execution_count": 13,
   "id": "b963e695-dc8e-49b8-b4b8-d7af3d1b6ba4",
   "metadata": {},
   "outputs": [
    {
     "name": "stdout",
     "output_type": "stream",
     "text": [
      "There is no null value\n"
     ]
    }
   ],
   "source": [
    "show_all_null(df)"
   ]
  },
  {
   "cell_type": "markdown",
   "id": "9977ffa4-5ea7-4284-80fe-95dd753502a5",
   "metadata": {},
   "source": [
    "# Analysis of Categorical and Numerical Variables"
   ]
  },
  {
   "cell_type": "code",
   "execution_count": 14,
   "id": "3398f35c-4e10-443f-8c52-e8ee098ab7a4",
   "metadata": {},
   "outputs": [],
   "source": [
    "categorical_cols = []\n",
    "numerical_cols = []\n",
    "discarted_cols = [\"index\"]"
   ]
  },
  {
   "cell_type": "code",
   "execution_count": 15,
   "id": "d48539c1-1d6a-45e1-9e74-8858562fd412",
   "metadata": {},
   "outputs": [],
   "source": [
    "def grab_cat_num_cols(dataframe):\n",
    "    for col_name in dataframe.dtypes:\n",
    "        if (col_name[0] not in discarted_cols):\n",
    "            if col_name[1] == \"string\":\n",
    "                categorical_cols.append(col_name[0])\n",
    "            else:\n",
    "                numerical_cols.append(col_name[0])\n",
    "    return categorical_cols, numerical_cols"
   ]
  },
  {
   "cell_type": "code",
   "execution_count": 16,
   "id": "363b34fc-dcf8-4e35-88a9-2d6588277b32",
   "metadata": {},
   "outputs": [
    {
     "name": "stdout",
     "output_type": "stream",
     "text": [
      "Observations: 50\n",
      "Variables: 5\n",
      "Cat_cols: 0\n",
      "Num_cols: 4\n"
     ]
    }
   ],
   "source": [
    "categorical_cols, numerical_cols = grab_cat_num_cols(df)\n",
    "\n",
    "#Print Categorical and Numerical Variables\n",
    "print(f\"Observations: {df.count()}\")\n",
    "print(f\"Variables: {len(df.columns)}\")\n",
    "print(f\"Cat_cols: {len(categorical_cols)}\")\n",
    "print(f\"Num_cols: {len(numerical_cols)}\")"
   ]
  },
  {
   "cell_type": "code",
   "execution_count": 17,
   "id": "f52dd369-11ab-4b01-bacc-b253de327469",
   "metadata": {},
   "outputs": [
    {
     "name": "stdout",
     "output_type": "stream",
     "text": [
      "column check is True\n"
     ]
    }
   ],
   "source": [
    "# column check\n",
    "if (len(df.columns) == (len(discarted_cols) + len(categorical_cols) + len(numerical_cols))):\n",
    "    print(\"column check is True\")\n",
    "else:\n",
    "    print(\"There is a problem for column check\")"
   ]
  },
  {
   "cell_type": "markdown",
   "id": "790b0e1e-88c2-4582-84a8-cc303e8ab266",
   "metadata": {},
   "source": [
    "# Encoding Scaling"
   ]
  },
  {
   "cell_type": "code",
   "execution_count": 18,
   "id": "f7872a53-64b1-4fc1-8688-8837583bf02b",
   "metadata": {},
   "outputs": [],
   "source": [
    "def find_binary_cols(dataframe, cat_cols):\n",
    "    binary_cols = dataframe.select([col for col in cat_cols if dataframe.select(col).dtypes[0][1] == \"string\" and dataframe.select(col).distinct().count() == 2])\n",
    "    return binary_cols"
   ]
  },
  {
   "cell_type": "code",
   "execution_count": 19,
   "id": "42c2f084-31c7-437d-a8d8-c53a86097ef8",
   "metadata": {},
   "outputs": [
    {
     "name": "stdout",
     "output_type": "stream",
     "text": [
      "[]\n"
     ]
    }
   ],
   "source": [
    "binary_cols = find_binary_cols(df, categorical_cols)\n",
    "print(binary_cols.columns)"
   ]
  },
  {
   "cell_type": "code",
   "execution_count": 20,
   "id": "5f22920e-8d9b-4eed-b7e3-ab39f7548594",
   "metadata": {},
   "outputs": [],
   "source": [
    "my_dict = {}\n",
    "string_indexer_objs = []\n",
    "string_indexer_output_names = []\n",
    "ohe_input_names = []\n",
    "ohe_output_names = []\n",
    "\n",
    "for col_name in categorical_cols:\n",
    "    my_dict[col_name+\"_index_obj\"] = StringIndexer() \\\n",
    "    .setHandleInvalid(\"skip\") \\\n",
    "    .setInputCol(col_name) \\\n",
    "    .setOutputCol(col_name+\"_indexed\")\n",
    "    \n",
    "    string_indexer_objs.append(my_dict.get(col_name+\"_index_obj\"))\n",
    "    string_indexer_output_names.append(col_name+\"_indexed\")\n",
    "    \n",
    "    if col_name not in binary_cols.columns:\n",
    "        ohe_input_names.append(col_name+\"_indexed\")\n",
    "        ohe_output_names.append(col_name+\"_ohe\")"
   ]
  },
  {
   "cell_type": "code",
   "execution_count": 21,
   "id": "bdb7201e-891f-4d97-8676-c67795acee41",
   "metadata": {},
   "outputs": [
    {
     "name": "stdout",
     "output_type": "stream",
     "text": [
      "[]\n"
     ]
    }
   ],
   "source": [
    "not_to_hot_coded = list(set(string_indexer_output_names).difference(set(ohe_input_names)))\n",
    "print(not_to_hot_coded)"
   ]
  },
  {
   "cell_type": "code",
   "execution_count": 22,
   "id": "89891b8c-ac54-4bc9-a6b0-9d21dcf9d839",
   "metadata": {},
   "outputs": [],
   "source": [
    "encoder = OneHotEncoder().setInputCols(ohe_input_names).setOutputCols(ohe_output_names)\n",
    "assembler = VectorAssembler().setHandleInvalid(\"skip\").setInputCols(numerical_cols + not_to_hot_coded + ohe_output_names).setOutputCol(\"unscaled_features\")\n",
    "scaler = StandardScaler().setInputCol(\"unscaled_features\").setOutputCol(\"features\")"
   ]
  },
  {
   "cell_type": "markdown",
   "id": "7827acfa-6bd0-4fa4-9f38-1dbfbaa2a92c",
   "metadata": {},
   "source": [
    "# Create Model"
   ]
  },
  {
   "cell_type": "code",
   "execution_count": 23,
   "id": "12fde133-ab96-45ad-bea2-cf450cd87ee3",
   "metadata": {},
   "outputs": [],
   "source": [
    "# create pipeline object\n",
    "pipeline_obj = Pipeline().setStages(string_indexer_objs + [encoder, assembler, scaler])"
   ]
  },
  {
   "cell_type": "code",
   "execution_count": 24,
   "id": "9e003625-386f-49fb-835e-eb8766e6edf7",
   "metadata": {},
   "outputs": [],
   "source": [
    "# fit model\n",
    "pipeline_model = pipeline_obj.fit(df)"
   ]
  },
  {
   "cell_type": "code",
   "execution_count": 26,
   "id": "ec1c1976-68b2-41a1-b67d-1f1e1671c10d",
   "metadata": {},
   "outputs": [
    {
     "data": {
      "text/html": [
       "<div>\n",
       "<style scoped>\n",
       "    .dataframe tbody tr th:only-of-type {\n",
       "        vertical-align: middle;\n",
       "    }\n",
       "\n",
       "    .dataframe tbody tr th {\n",
       "        vertical-align: top;\n",
       "    }\n",
       "\n",
       "    .dataframe thead th {\n",
       "        text-align: right;\n",
       "    }\n",
       "</style>\n",
       "<table border=\"1\" class=\"dataframe\">\n",
       "  <thead>\n",
       "    <tr style=\"text-align: right;\">\n",
       "      <th></th>\n",
       "      <th>index</th>\n",
       "      <th>Murder</th>\n",
       "      <th>Assault</th>\n",
       "      <th>UrbanPop</th>\n",
       "      <th>Rape</th>\n",
       "      <th>unscaled_features</th>\n",
       "      <th>features</th>\n",
       "    </tr>\n",
       "  </thead>\n",
       "  <tbody>\n",
       "    <tr>\n",
       "      <th>0</th>\n",
       "      <td>Alabama</td>\n",
       "      <td>13.2000</td>\n",
       "      <td>236</td>\n",
       "      <td>58</td>\n",
       "      <td>21.2000</td>\n",
       "      <td>[13.2, 236.0, 58.0, 21.2]</td>\n",
       "      <td>[3.030644107027128, 2.8318529416496117, 4.0069...</td>\n",
       "    </tr>\n",
       "    <tr>\n",
       "      <th>1</th>\n",
       "      <td>Alaska</td>\n",
       "      <td>10.0000</td>\n",
       "      <td>263</td>\n",
       "      <td>48</td>\n",
       "      <td>44.5000</td>\n",
       "      <td>[10.0, 263.0, 48.0, 44.5]</td>\n",
       "      <td>[2.2959425053235822, 3.155836117177321, 3.3161...</td>\n",
       "    </tr>\n",
       "    <tr>\n",
       "      <th>2</th>\n",
       "      <td>Arizona</td>\n",
       "      <td>8.1000</td>\n",
       "      <td>294</td>\n",
       "      <td>80</td>\n",
       "      <td>31.0000</td>\n",
       "      <td>[8.1, 294.0, 80.0, 31.0]</td>\n",
       "      <td>[1.8597134293121014, 3.527816800190618, 5.5268...</td>\n",
       "    </tr>\n",
       "    <tr>\n",
       "      <th>3</th>\n",
       "      <td>Arkansas</td>\n",
       "      <td>8.8000</td>\n",
       "      <td>190</td>\n",
       "      <td>50</td>\n",
       "      <td>19.5000</td>\n",
       "      <td>[8.8, 190.0, 50.0, 19.5]</td>\n",
       "      <td>[2.0204294046847524, 2.279881605565365, 3.4542...</td>\n",
       "    </tr>\n",
       "    <tr>\n",
       "      <th>4</th>\n",
       "      <td>California</td>\n",
       "      <td>9.0000</td>\n",
       "      <td>276</td>\n",
       "      <td>91</td>\n",
       "      <td>40.6000</td>\n",
       "      <td>[9.0, 276.0, 91.0, 40.6]</td>\n",
       "      <td>[2.0663482547912237, 3.3118280165054776, 6.286...</td>\n",
       "    </tr>\n",
       "  </tbody>\n",
       "</table>\n",
       "</div>"
      ],
      "text/plain": [
       "        index  Murder  Assault  UrbanPop    Rape          unscaled_features                                           features\n",
       "0     Alabama 13.2000      236        58 21.2000  [13.2, 236.0, 58.0, 21.2]  [3.030644107027128, 2.8318529416496117, 4.0069...\n",
       "1      Alaska 10.0000      263        48 44.5000  [10.0, 263.0, 48.0, 44.5]  [2.2959425053235822, 3.155836117177321, 3.3161...\n",
       "2     Arizona  8.1000      294        80 31.0000   [8.1, 294.0, 80.0, 31.0]  [1.8597134293121014, 3.527816800190618, 5.5268...\n",
       "3    Arkansas  8.8000      190        50 19.5000   [8.8, 190.0, 50.0, 19.5]  [2.0204294046847524, 2.279881605565365, 3.4542...\n",
       "4  California  9.0000      276        91 40.6000   [9.0, 276.0, 91.0, 40.6]  [2.0663482547912237, 3.3118280165054776, 6.286..."
      ]
     },
     "execution_count": 26,
     "metadata": {},
     "output_type": "execute_result"
    }
   ],
   "source": [
    "# show transform pipeline dataframe\n",
    "transform_df = pipeline_model.transform(df)\n",
    "transform_df.limit(5).toPandas()"
   ]
  },
  {
   "cell_type": "code",
   "execution_count": 28,
   "id": "4d0e1a96-372c-4bd2-9d4d-4cc66c79d04c",
   "metadata": {},
   "outputs": [],
   "source": [
    "# compute k-means model for k clusters\n",
    "def compute_kmeans_model(dataframe, k):\n",
    "    kmeans_object = KMeans() \\\n",
    "        .setSeed(123) \\\n",
    "        .setK(k)\n",
    "    \n",
    "    return kmeans_object.fit(dataframe)"
   ]
  },
  {
   "cell_type": "code",
   "execution_count": 30,
   "id": "faddc345-341f-4e27-b2fc-339cb1f1110a",
   "metadata": {},
   "outputs": [],
   "source": [
    "# create evaluator object\n",
    "evaluator = ClusteringEvaluator()"
   ]
  },
  {
   "cell_type": "code",
   "execution_count": 33,
   "id": "fe82bbbe-22c8-45d6-a18a-7d03eea06038",
   "metadata": {},
   "outputs": [
    {
     "name": "stdout",
     "output_type": "stream",
     "text": [
      "k: 2, score: 0.609\n",
      "k: 3, score: 0.473\n",
      "k: 4, score: 0.533\n",
      "k: 5, score: 0.391\n",
      "k: 6, score: 0.393\n",
      "k: 7, score: 0.429\n",
      "k: 8, score: 0.323\n",
      "k: 9, score: 0.377\n",
      "k: 10, score: 0.421\n"
     ]
    }
   ],
   "source": [
    "# find Silhouette score\n",
    "for k in range(2, 11):\n",
    "    kmeans_model = compute_kmeans_model(transform_df, k)\n",
    "    transformed_df = kmeans_model.transform(transform_df)\n",
    "    score_k = evaluator.evaluate(transformed_df)\n",
    "    print(\"k: {}, score: {:.3f}\".format(k, score_k))"
   ]
  },
  {
   "cell_type": "code",
   "execution_count": 60,
   "id": "e5f3672a-c7f7-4cb5-966e-5c89dd7cd0d4",
   "metadata": {},
   "outputs": [],
   "source": [
    "# When looking at the Silhouette Score, it wants us to choose 2 clusters, but I choose 4 cluster because I know the data :)\n",
    "kmeans_model = compute_kmeans_model(transform_df, 4)"
   ]
  },
  {
   "cell_type": "code",
   "execution_count": 61,
   "id": "0e765355-0f97-4130-bcb7-833bd6f6d249",
   "metadata": {},
   "outputs": [
    {
     "data": {
      "text/html": [
       "<div>\n",
       "<style scoped>\n",
       "    .dataframe tbody tr th:only-of-type {\n",
       "        vertical-align: middle;\n",
       "    }\n",
       "\n",
       "    .dataframe tbody tr th {\n",
       "        vertical-align: top;\n",
       "    }\n",
       "\n",
       "    .dataframe thead th {\n",
       "        text-align: right;\n",
       "    }\n",
       "</style>\n",
       "<table border=\"1\" class=\"dataframe\">\n",
       "  <thead>\n",
       "    <tr style=\"text-align: right;\">\n",
       "      <th></th>\n",
       "      <th>index</th>\n",
       "      <th>Murder</th>\n",
       "      <th>Assault</th>\n",
       "      <th>UrbanPop</th>\n",
       "      <th>Rape</th>\n",
       "      <th>unscaled_features</th>\n",
       "      <th>features</th>\n",
       "      <th>prediction</th>\n",
       "    </tr>\n",
       "  </thead>\n",
       "  <tbody>\n",
       "    <tr>\n",
       "      <th>0</th>\n",
       "      <td>Alabama</td>\n",
       "      <td>13.2000</td>\n",
       "      <td>236</td>\n",
       "      <td>58</td>\n",
       "      <td>21.2000</td>\n",
       "      <td>[13.2, 236.0, 58.0, 21.2]</td>\n",
       "      <td>[3.030644107027128, 2.8318529416496117, 4.0069...</td>\n",
       "      <td>3</td>\n",
       "    </tr>\n",
       "    <tr>\n",
       "      <th>1</th>\n",
       "      <td>Alaska</td>\n",
       "      <td>10.0000</td>\n",
       "      <td>263</td>\n",
       "      <td>48</td>\n",
       "      <td>44.5000</td>\n",
       "      <td>[10.0, 263.0, 48.0, 44.5]</td>\n",
       "      <td>[2.2959425053235822, 3.155836117177321, 3.3161...</td>\n",
       "      <td>0</td>\n",
       "    </tr>\n",
       "    <tr>\n",
       "      <th>2</th>\n",
       "      <td>Arizona</td>\n",
       "      <td>8.1000</td>\n",
       "      <td>294</td>\n",
       "      <td>80</td>\n",
       "      <td>31.0000</td>\n",
       "      <td>[8.1, 294.0, 80.0, 31.0]</td>\n",
       "      <td>[1.8597134293121014, 3.527816800190618, 5.5268...</td>\n",
       "      <td>0</td>\n",
       "    </tr>\n",
       "    <tr>\n",
       "      <th>3</th>\n",
       "      <td>Arkansas</td>\n",
       "      <td>8.8000</td>\n",
       "      <td>190</td>\n",
       "      <td>50</td>\n",
       "      <td>19.5000</td>\n",
       "      <td>[8.8, 190.0, 50.0, 19.5]</td>\n",
       "      <td>[2.0204294046847524, 2.279881605565365, 3.4542...</td>\n",
       "      <td>3</td>\n",
       "    </tr>\n",
       "    <tr>\n",
       "      <th>4</th>\n",
       "      <td>California</td>\n",
       "      <td>9.0000</td>\n",
       "      <td>276</td>\n",
       "      <td>91</td>\n",
       "      <td>40.6000</td>\n",
       "      <td>[9.0, 276.0, 91.0, 40.6]</td>\n",
       "      <td>[2.0663482547912237, 3.3118280165054776, 6.286...</td>\n",
       "      <td>0</td>\n",
       "    </tr>\n",
       "  </tbody>\n",
       "</table>\n",
       "</div>"
      ],
      "text/plain": [
       "        index  Murder  Assault  UrbanPop    Rape          unscaled_features                                           features  prediction\n",
       "0     Alabama 13.2000      236        58 21.2000  [13.2, 236.0, 58.0, 21.2]  [3.030644107027128, 2.8318529416496117, 4.0069...           3\n",
       "1      Alaska 10.0000      263        48 44.5000  [10.0, 263.0, 48.0, 44.5]  [2.2959425053235822, 3.155836117177321, 3.3161...           0\n",
       "2     Arizona  8.1000      294        80 31.0000   [8.1, 294.0, 80.0, 31.0]  [1.8597134293121014, 3.527816800190618, 5.5268...           0\n",
       "3    Arkansas  8.8000      190        50 19.5000   [8.8, 190.0, 50.0, 19.5]  [2.0204294046847524, 2.279881605565365, 3.4542...           3\n",
       "4  California  9.0000      276        91 40.6000   [9.0, 276.0, 91.0, 40.6]  [2.0663482547912237, 3.3118280165054776, 6.286...           0"
      ]
     },
     "execution_count": 61,
     "metadata": {},
     "output_type": "execute_result"
    }
   ],
   "source": [
    "# prediction\n",
    "transformed_df = kmeans_model.transform(transform_df)\n",
    "transformed_df.limit(5).toPandas()"
   ]
  },
  {
   "cell_type": "code",
   "execution_count": 62,
   "id": "cfa6143d-9969-426d-be5f-f170e867134d",
   "metadata": {},
   "outputs": [],
   "source": [
    "transformed_df = transformed_df.withColumn(\"prediction\", (transformed_df[\"prediction\"] + 1))"
   ]
  },
  {
   "cell_type": "code",
   "execution_count": 68,
   "id": "9713c34a-d22f-4346-9abc-18a8a8bdd561",
   "metadata": {},
   "outputs": [
    {
     "data": {
      "text/html": [
       "<div>\n",
       "<style scoped>\n",
       "    .dataframe tbody tr th:only-of-type {\n",
       "        vertical-align: middle;\n",
       "    }\n",
       "\n",
       "    .dataframe tbody tr th {\n",
       "        vertical-align: top;\n",
       "    }\n",
       "\n",
       "    .dataframe thead th {\n",
       "        text-align: right;\n",
       "    }\n",
       "</style>\n",
       "<table border=\"1\" class=\"dataframe\">\n",
       "  <thead>\n",
       "    <tr style=\"text-align: right;\">\n",
       "      <th></th>\n",
       "      <th>index</th>\n",
       "      <th>Murder</th>\n",
       "      <th>Assault</th>\n",
       "      <th>UrbanPop</th>\n",
       "      <th>Rape</th>\n",
       "      <th>unscaled_features</th>\n",
       "      <th>features</th>\n",
       "      <th>prediction</th>\n",
       "    </tr>\n",
       "  </thead>\n",
       "  <tbody>\n",
       "    <tr>\n",
       "      <th>0</th>\n",
       "      <td>Alabama</td>\n",
       "      <td>13.2000</td>\n",
       "      <td>236</td>\n",
       "      <td>58</td>\n",
       "      <td>21.2000</td>\n",
       "      <td>[13.2, 236.0, 58.0, 21.2]</td>\n",
       "      <td>[3.030644107027128, 2.8318529416496117, 4.0069...</td>\n",
       "      <td>4</td>\n",
       "    </tr>\n",
       "    <tr>\n",
       "      <th>1</th>\n",
       "      <td>Alaska</td>\n",
       "      <td>10.0000</td>\n",
       "      <td>263</td>\n",
       "      <td>48</td>\n",
       "      <td>44.5000</td>\n",
       "      <td>[10.0, 263.0, 48.0, 44.5]</td>\n",
       "      <td>[2.2959425053235822, 3.155836117177321, 3.3161...</td>\n",
       "      <td>1</td>\n",
       "    </tr>\n",
       "    <tr>\n",
       "      <th>2</th>\n",
       "      <td>Arizona</td>\n",
       "      <td>8.1000</td>\n",
       "      <td>294</td>\n",
       "      <td>80</td>\n",
       "      <td>31.0000</td>\n",
       "      <td>[8.1, 294.0, 80.0, 31.0]</td>\n",
       "      <td>[1.8597134293121014, 3.527816800190618, 5.5268...</td>\n",
       "      <td>1</td>\n",
       "    </tr>\n",
       "    <tr>\n",
       "      <th>3</th>\n",
       "      <td>Arkansas</td>\n",
       "      <td>8.8000</td>\n",
       "      <td>190</td>\n",
       "      <td>50</td>\n",
       "      <td>19.5000</td>\n",
       "      <td>[8.8, 190.0, 50.0, 19.5]</td>\n",
       "      <td>[2.0204294046847524, 2.279881605565365, 3.4542...</td>\n",
       "      <td>4</td>\n",
       "    </tr>\n",
       "    <tr>\n",
       "      <th>4</th>\n",
       "      <td>California</td>\n",
       "      <td>9.0000</td>\n",
       "      <td>276</td>\n",
       "      <td>91</td>\n",
       "      <td>40.6000</td>\n",
       "      <td>[9.0, 276.0, 91.0, 40.6]</td>\n",
       "      <td>[2.0663482547912237, 3.3118280165054776, 6.286...</td>\n",
       "      <td>1</td>\n",
       "    </tr>\n",
       "  </tbody>\n",
       "</table>\n",
       "</div>"
      ],
      "text/plain": [
       "        index  Murder  Assault  UrbanPop    Rape          unscaled_features                                           features  prediction\n",
       "0     Alabama 13.2000      236        58 21.2000  [13.2, 236.0, 58.0, 21.2]  [3.030644107027128, 2.8318529416496117, 4.0069...           4\n",
       "1      Alaska 10.0000      263        48 44.5000  [10.0, 263.0, 48.0, 44.5]  [2.2959425053235822, 3.155836117177321, 3.3161...           1\n",
       "2     Arizona  8.1000      294        80 31.0000   [8.1, 294.0, 80.0, 31.0]  [1.8597134293121014, 3.527816800190618, 5.5268...           1\n",
       "3    Arkansas  8.8000      190        50 19.5000   [8.8, 190.0, 50.0, 19.5]  [2.0204294046847524, 2.279881605565365, 3.4542...           4\n",
       "4  California  9.0000      276        91 40.6000   [9.0, 276.0, 91.0, 40.6]  [2.0663482547912237, 3.3118280165054776, 6.286...           1"
      ]
     },
     "execution_count": 68,
     "metadata": {},
     "output_type": "execute_result"
    }
   ],
   "source": [
    "transformed_df.limit(5).toPandas()"
   ]
  },
  {
   "cell_type": "code",
   "execution_count": 67,
   "id": "67213437-310d-4821-9ab0-1e79545bc8f9",
   "metadata": {},
   "outputs": [
    {
     "data": {
      "text/html": [
       "<div>\n",
       "<style scoped>\n",
       "    .dataframe tbody tr th:only-of-type {\n",
       "        vertical-align: middle;\n",
       "    }\n",
       "\n",
       "    .dataframe tbody tr th {\n",
       "        vertical-align: top;\n",
       "    }\n",
       "\n",
       "    .dataframe thead th {\n",
       "        text-align: right;\n",
       "    }\n",
       "</style>\n",
       "<table border=\"1\" class=\"dataframe\">\n",
       "  <thead>\n",
       "    <tr style=\"text-align: right;\">\n",
       "      <th></th>\n",
       "      <th>index</th>\n",
       "      <th>prediction</th>\n",
       "    </tr>\n",
       "  </thead>\n",
       "  <tbody>\n",
       "    <tr>\n",
       "      <th>0</th>\n",
       "      <td>Alabama</td>\n",
       "      <td>4</td>\n",
       "    </tr>\n",
       "    <tr>\n",
       "      <th>1</th>\n",
       "      <td>Alaska</td>\n",
       "      <td>1</td>\n",
       "    </tr>\n",
       "    <tr>\n",
       "      <th>2</th>\n",
       "      <td>Arizona</td>\n",
       "      <td>1</td>\n",
       "    </tr>\n",
       "    <tr>\n",
       "      <th>3</th>\n",
       "      <td>Arkansas</td>\n",
       "      <td>4</td>\n",
       "    </tr>\n",
       "    <tr>\n",
       "      <th>4</th>\n",
       "      <td>California</td>\n",
       "      <td>1</td>\n",
       "    </tr>\n",
       "  </tbody>\n",
       "</table>\n",
       "</div>"
      ],
      "text/plain": [
       "        index  prediction\n",
       "0     Alabama           4\n",
       "1      Alaska           1\n",
       "2     Arizona           1\n",
       "3    Arkansas           4\n",
       "4  California           1"
      ]
     },
     "execution_count": 67,
     "metadata": {},
     "output_type": "execute_result"
    }
   ],
   "source": [
    "transformed_df.select(\"index\", \"prediction\").limit(5).toPandas()"
   ]
  }
 ],
 "metadata": {
  "kernelspec": {
   "display_name": "Python 3 (ipykernel)",
   "language": "python",
   "name": "python3"
  },
  "language_info": {
   "codemirror_mode": {
    "name": "ipython",
    "version": 3
   },
   "file_extension": ".py",
   "mimetype": "text/x-python",
   "name": "python",
   "nbconvert_exporter": "python",
   "pygments_lexer": "ipython3",
   "version": "3.9.12"
  }
 },
 "nbformat": 4,
 "nbformat_minor": 5
}
